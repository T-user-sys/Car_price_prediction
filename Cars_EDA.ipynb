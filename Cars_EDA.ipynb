{
 "cells": [
  {
   "cell_type": "code",
   "execution_count": 118,
   "id": "4795bd2a",
   "metadata": {},
   "outputs": [],
   "source": [
    "import pandas as pd "
   ]
  },
  {
   "cell_type": "code",
   "execution_count": 119,
   "id": "99378c05",
   "metadata": {},
   "outputs": [],
   "source": [
    "df = pd.read_csv('Oferty_aut_Copy_UTF-8.csv', sep=';', encoding=\"UTF-8\")"
   ]
  },
  {
   "cell_type": "code",
   "execution_count": 120,
   "id": "c321bf19",
   "metadata": {},
   "outputs": [
    {
     "data": {
      "text/html": [
       "<div>\n",
       "<style scoped>\n",
       "    .dataframe tbody tr th:only-of-type {\n",
       "        vertical-align: middle;\n",
       "    }\n",
       "\n",
       "    .dataframe tbody tr th {\n",
       "        vertical-align: top;\n",
       "    }\n",
       "\n",
       "    .dataframe thead th {\n",
       "        text-align: right;\n",
       "    }\n",
       "</style>\n",
       "<table border=\"1\" class=\"dataframe\">\n",
       "  <thead>\n",
       "    <tr style=\"text-align: right;\">\n",
       "      <th></th>\n",
       "      <th>ID</th>\n",
       "      <th>Brand</th>\n",
       "      <th>Model</th>\n",
       "      <th>Fuel</th>\n",
       "      <th>Mileage</th>\n",
       "      <th>Year</th>\n",
       "      <th>Transmission</th>\n",
       "      <th>Price</th>\n",
       "      <th>Bodywork</th>\n",
       "      <th>CO2</th>\n",
       "      <th>Color</th>\n",
       "      <th>Euro Standard</th>\n",
       "      <th>Doors</th>\n",
       "      <th>HP</th>\n",
       "      <th>Description</th>\n",
       "      <th>Link</th>\n",
       "    </tr>\n",
       "  </thead>\n",
       "  <tbody>\n",
       "    <tr>\n",
       "      <th>0</th>\n",
       "      <td>FB116890</td>\n",
       "      <td>Audi</td>\n",
       "      <td>Q3</td>\n",
       "      <td>Gas</td>\n",
       "      <td>21786</td>\n",
       "      <td>2021</td>\n",
       "      <td>Automatisch</td>\n",
       "      <td>32990</td>\n",
       "      <td>SUV</td>\n",
       "      <td>149.0</td>\n",
       "      <td>Grijs</td>\n",
       "      <td>Euro 6</td>\n",
       "      <td>5</td>\n",
       "      <td>150</td>\n",
       "      <td>Deze Audi Q3 S Line is voor het eerst ingeschr...</td>\n",
       "      <td>https://www.autosphere.be/nl/detail/audi-q3-s-...</td>\n",
       "    </tr>\n",
       "    <tr>\n",
       "      <th>1</th>\n",
       "      <td>FB118238</td>\n",
       "      <td>Renault</td>\n",
       "      <td>Megane</td>\n",
       "      <td>Hybride</td>\n",
       "      <td>18181</td>\n",
       "      <td>2023</td>\n",
       "      <td>Automatisch</td>\n",
       "      <td>24990</td>\n",
       "      <td>Berline</td>\n",
       "      <td>29.0</td>\n",
       "      <td>Grijs</td>\n",
       "      <td>Euro 6</td>\n",
       "      <td>5</td>\n",
       "      <td>94</td>\n",
       "      <td>Deze Renault Megane PHEV*I-Tech Engenering*Boi...</td>\n",
       "      <td>https://www.autosphere.be/nl/detail/renault-me...</td>\n",
       "    </tr>\n",
       "    <tr>\n",
       "      <th>2</th>\n",
       "      <td>FB117338</td>\n",
       "      <td>Land Rover</td>\n",
       "      <td>Range Rover Evoque</td>\n",
       "      <td>Diesel</td>\n",
       "      <td>40940</td>\n",
       "      <td>2023</td>\n",
       "      <td>Automatisch</td>\n",
       "      <td>36990</td>\n",
       "      <td>SUV</td>\n",
       "      <td>172.0</td>\n",
       "      <td>Zwart</td>\n",
       "      <td>Euro 6</td>\n",
       "      <td>5</td>\n",
       "      <td>163</td>\n",
       "      <td>Deze Land Rover Range Rover Evoque *Boite auto...</td>\n",
       "      <td>https://www.autosphere.be/nl/detail/land-rover...</td>\n",
       "    </tr>\n",
       "    <tr>\n",
       "      <th>3</th>\n",
       "      <td>FB116891</td>\n",
       "      <td>Lexus</td>\n",
       "      <td>UX 250h</td>\n",
       "      <td>Hybride</td>\n",
       "      <td>16027</td>\n",
       "      <td>2023</td>\n",
       "      <td>Automatisch</td>\n",
       "      <td>26990</td>\n",
       "      <td>Berline</td>\n",
       "      <td>120.0</td>\n",
       "      <td>Blauw</td>\n",
       "      <td>Euro 6</td>\n",
       "      <td>5</td>\n",
       "      <td>152</td>\n",
       "      <td>Deze Lexus UX 250h *Boite auto*Carplay*Led*Cli...</td>\n",
       "      <td>https://www.autosphere.be/nl/detail/lexus-ux-2...</td>\n",
       "    </tr>\n",
       "    <tr>\n",
       "      <th>4</th>\n",
       "      <td>FB118716</td>\n",
       "      <td>Renault</td>\n",
       "      <td>Captur</td>\n",
       "      <td>Gas</td>\n",
       "      <td>18345</td>\n",
       "      <td>2024</td>\n",
       "      <td>Manueel</td>\n",
       "      <td>19990</td>\n",
       "      <td>SUV</td>\n",
       "      <td>132.0</td>\n",
       "      <td>Grijs</td>\n",
       "      <td>Euro 6</td>\n",
       "      <td>5</td>\n",
       "      <td>91</td>\n",
       "      <td>Deze Renault Captur *GPS*Carplay*CamĂ©ra*APS A...</td>\n",
       "      <td>https://www.autosphere.be/nl/detail/renault-ca...</td>\n",
       "    </tr>\n",
       "    <tr>\n",
       "      <th>5</th>\n",
       "      <td>FB119398</td>\n",
       "      <td>Renault</td>\n",
       "      <td>Clio</td>\n",
       "      <td>Gas</td>\n",
       "      <td>6710</td>\n",
       "      <td>2024</td>\n",
       "      <td>Manueel</td>\n",
       "      <td>17390</td>\n",
       "      <td>Stadswagen</td>\n",
       "      <td>1.0</td>\n",
       "      <td>Zwart</td>\n",
       "      <td>Euro 6</td>\n",
       "      <td>5</td>\n",
       "      <td>90</td>\n",
       "      <td>Deze Renault Clio *Carplay*Clim auto*APS Ar*RĂ...</td>\n",
       "      <td>https://www.autosphere.be/nl/detail/renault-cl...</td>\n",
       "    </tr>\n",
       "    <tr>\n",
       "      <th>6</th>\n",
       "      <td>FB121290</td>\n",
       "      <td>Renault</td>\n",
       "      <td>Megane</td>\n",
       "      <td>Hybride</td>\n",
       "      <td>17070</td>\n",
       "      <td>2022</td>\n",
       "      <td>Automatisch</td>\n",
       "      <td>19990</td>\n",
       "      <td>Berline</td>\n",
       "      <td>27.0</td>\n",
       "      <td>Zwart</td>\n",
       "      <td>Euro 6</td>\n",
       "      <td>5</td>\n",
       "      <td>94</td>\n",
       "      <td>Deze Renault Megane *Boite auto*GPS*Carplay*Ca...</td>\n",
       "      <td>https://www.autosphere.be/nl/detail/renault-me...</td>\n",
       "    </tr>\n",
       "    <tr>\n",
       "      <th>7</th>\n",
       "      <td>FB120574</td>\n",
       "      <td>Renault</td>\n",
       "      <td>Austral</td>\n",
       "      <td>Hybride</td>\n",
       "      <td>16806</td>\n",
       "      <td>2024</td>\n",
       "      <td>Automatisch</td>\n",
       "      <td>34990</td>\n",
       "      <td>SUV</td>\n",
       "      <td>102.0</td>\n",
       "      <td>Grijs</td>\n",
       "      <td>Euro 6</td>\n",
       "      <td>5</td>\n",
       "      <td>131</td>\n",
       "      <td>Deze Renault Austral Techno Esprit Alpine 200 ...</td>\n",
       "      <td>https://www.autosphere.be/nl/detail/renault-au...</td>\n",
       "    </tr>\n",
       "    <tr>\n",
       "      <th>8</th>\n",
       "      <td>FB124888</td>\n",
       "      <td>Renault</td>\n",
       "      <td>Arkana</td>\n",
       "      <td>Gas</td>\n",
       "      <td>13946</td>\n",
       "      <td>2022</td>\n",
       "      <td>Automatisch</td>\n",
       "      <td>22990</td>\n",
       "      <td>SUV</td>\n",
       "      <td>132.0</td>\n",
       "      <td>Oranje</td>\n",
       "      <td>Euro 6</td>\n",
       "      <td>5</td>\n",
       "      <td>140</td>\n",
       "      <td>Deze Renault Arkana 1.33 TCe R.S.Line GPF EDC ...</td>\n",
       "      <td>https://www.autosphere.be/nl/detail/renault-ar...</td>\n",
       "    </tr>\n",
       "    <tr>\n",
       "      <th>9</th>\n",
       "      <td>FB125835</td>\n",
       "      <td>Renault</td>\n",
       "      <td>Talisman</td>\n",
       "      <td>Gas</td>\n",
       "      <td>37227</td>\n",
       "      <td>2016</td>\n",
       "      <td>Automatisch</td>\n",
       "      <td>15990</td>\n",
       "      <td>Berline</td>\n",
       "      <td>127.0</td>\n",
       "      <td>Zwart</td>\n",
       "      <td>Euro 6</td>\n",
       "      <td>4</td>\n",
       "      <td>150</td>\n",
       "      <td>Deze Renault Talisman Intens automatic is voor...</td>\n",
       "      <td>https://www.autosphere.be/nl/detail/renault-ta...</td>\n",
       "    </tr>\n",
       "  </tbody>\n",
       "</table>\n",
       "</div>"
      ],
      "text/plain": [
       "         ID       Brand               Model     Fuel  Mileage  Year  \\\n",
       "0  FB116890        Audi                  Q3      Gas    21786  2021   \n",
       "1  FB118238     Renault              Megane  Hybride    18181  2023   \n",
       "2  FB117338  Land Rover  Range Rover Evoque   Diesel    40940  2023   \n",
       "3  FB116891       Lexus             UX 250h  Hybride    16027  2023   \n",
       "4  FB118716     Renault              Captur      Gas    18345  2024   \n",
       "5  FB119398     Renault                Clio      Gas     6710  2024   \n",
       "6  FB121290     Renault              Megane  Hybride    17070  2022   \n",
       "7  FB120574     Renault             Austral  Hybride    16806  2024   \n",
       "8  FB124888     Renault              Arkana      Gas    13946  2022   \n",
       "9  FB125835     Renault            Talisman      Gas    37227  2016   \n",
       "\n",
       "  Transmission  Price    Bodywork    CO2   Color Euro Standard  Doors   HP  \\\n",
       "0  Automatisch  32990         SUV  149.0   Grijs        Euro 6      5  150   \n",
       "1  Automatisch  24990     Berline   29.0   Grijs        Euro 6      5   94   \n",
       "2  Automatisch  36990         SUV  172.0   Zwart        Euro 6      5  163   \n",
       "3  Automatisch  26990     Berline  120.0   Blauw        Euro 6      5  152   \n",
       "4      Manueel  19990         SUV  132.0   Grijs        Euro 6      5   91   \n",
       "5      Manueel  17390  Stadswagen    1.0   Zwart        Euro 6      5   90   \n",
       "6  Automatisch  19990     Berline   27.0   Zwart        Euro 6      5   94   \n",
       "7  Automatisch  34990         SUV  102.0   Grijs        Euro 6      5  131   \n",
       "8  Automatisch  22990         SUV  132.0  Oranje        Euro 6      5  140   \n",
       "9  Automatisch  15990     Berline  127.0   Zwart        Euro 6      4  150   \n",
       "\n",
       "                                         Description  \\\n",
       "0  Deze Audi Q3 S Line is voor het eerst ingeschr...   \n",
       "1  Deze Renault Megane PHEV*I-Tech Engenering*Boi...   \n",
       "2  Deze Land Rover Range Rover Evoque *Boite auto...   \n",
       "3  Deze Lexus UX 250h *Boite auto*Carplay*Led*Cli...   \n",
       "4  Deze Renault Captur *GPS*Carplay*CamĂ©ra*APS A...   \n",
       "5  Deze Renault Clio *Carplay*Clim auto*APS Ar*RĂ...   \n",
       "6  Deze Renault Megane *Boite auto*GPS*Carplay*Ca...   \n",
       "7  Deze Renault Austral Techno Esprit Alpine 200 ...   \n",
       "8  Deze Renault Arkana 1.33 TCe R.S.Line GPF EDC ...   \n",
       "9  Deze Renault Talisman Intens automatic is voor...   \n",
       "\n",
       "                                                Link  \n",
       "0  https://www.autosphere.be/nl/detail/audi-q3-s-...  \n",
       "1  https://www.autosphere.be/nl/detail/renault-me...  \n",
       "2  https://www.autosphere.be/nl/detail/land-rover...  \n",
       "3  https://www.autosphere.be/nl/detail/lexus-ux-2...  \n",
       "4  https://www.autosphere.be/nl/detail/renault-ca...  \n",
       "5  https://www.autosphere.be/nl/detail/renault-cl...  \n",
       "6  https://www.autosphere.be/nl/detail/renault-me...  \n",
       "7  https://www.autosphere.be/nl/detail/renault-au...  \n",
       "8  https://www.autosphere.be/nl/detail/renault-ar...  \n",
       "9  https://www.autosphere.be/nl/detail/renault-ta...  "
      ]
     },
     "execution_count": 120,
     "metadata": {},
     "output_type": "execute_result"
    }
   ],
   "source": [
    "df.head(10)"
   ]
  },
  {
   "cell_type": "code",
   "execution_count": 121,
   "id": "81e72c6b",
   "metadata": {},
   "outputs": [
    {
     "data": {
      "text/plain": [
       "Index(['ID', 'Brand', 'Model', 'Fuel', 'Mileage', 'Year', 'Transmission',\n",
       "       'Price', 'Bodywork', 'CO2', 'Color', 'Euro Standard', 'Doors', 'HP',\n",
       "       'Description', 'Link'],\n",
       "      dtype='object')"
      ]
     },
     "execution_count": 121,
     "metadata": {},
     "output_type": "execute_result"
    }
   ],
   "source": [
    "df.columns"
   ]
  },
  {
   "cell_type": "code",
   "execution_count": 122,
   "id": "8078e878",
   "metadata": {},
   "outputs": [
    {
     "data": {
      "text/plain": [
       "ID                object\n",
       "Brand             object\n",
       "Model             object\n",
       "Fuel              object\n",
       "Mileage            int64\n",
       "Year               int64\n",
       "Transmission      object\n",
       "Price              int64\n",
       "Bodywork          object\n",
       "CO2              float64\n",
       "Color             object\n",
       "Euro Standard     object\n",
       "Doors              int64\n",
       "HP                 int64\n",
       "Description       object\n",
       "Link              object\n",
       "dtype: object"
      ]
     },
     "execution_count": 122,
     "metadata": {},
     "output_type": "execute_result"
    }
   ],
   "source": [
    "df.dtypes"
   ]
  },
  {
   "cell_type": "code",
   "execution_count": 123,
   "id": "a1afdd99",
   "metadata": {},
   "outputs": [
    {
     "data": {
      "text/plain": [
       "ID               False\n",
       "Brand            False\n",
       "Model            False\n",
       "Fuel             False\n",
       "Mileage          False\n",
       "Year             False\n",
       "Transmission     False\n",
       "Price            False\n",
       "Bodywork         False\n",
       "CO2               True\n",
       "Color            False\n",
       "Euro Standard    False\n",
       "Doors            False\n",
       "HP               False\n",
       "Description      False\n",
       "Link             False\n",
       "dtype: bool"
      ]
     },
     "execution_count": 123,
     "metadata": {},
     "output_type": "execute_result"
    }
   ],
   "source": [
    "df.isnull().any()"
   ]
  },
  {
   "cell_type": "code",
   "execution_count": 124,
   "id": "00306905",
   "metadata": {},
   "outputs": [
    {
     "data": {
      "text/plain": [
       "np.int64(144)"
      ]
     },
     "execution_count": 124,
     "metadata": {},
     "output_type": "execute_result"
    }
   ],
   "source": [
    "df[\"CO2\"].isnull().sum()"
   ]
  },
  {
   "cell_type": "code",
   "execution_count": 125,
   "id": "10833417",
   "metadata": {},
   "outputs": [],
   "source": [
    "CO2_mean = df['CO2'].mean()"
   ]
  },
  {
   "cell_type": "code",
   "execution_count": 126,
   "id": "e4175337",
   "metadata": {},
   "outputs": [
    {
     "data": {
      "text/plain": [
       "np.float64(119.22670807453416)"
      ]
     },
     "execution_count": 126,
     "metadata": {},
     "output_type": "execute_result"
    }
   ],
   "source": [
    "CO2_mean"
   ]
  },
  {
   "cell_type": "code",
   "execution_count": 127,
   "id": "54aff5f2",
   "metadata": {},
   "outputs": [],
   "source": [
    "df['CO2'] = df[\"CO2\"].fillna(CO2_mean)"
   ]
  },
  {
   "cell_type": "code",
   "execution_count": 128,
   "id": "3ac801d0",
   "metadata": {},
   "outputs": [
    {
     "data": {
      "text/plain": [
       "ID               False\n",
       "Brand            False\n",
       "Model            False\n",
       "Fuel             False\n",
       "Mileage          False\n",
       "Year             False\n",
       "Transmission     False\n",
       "Price            False\n",
       "Bodywork         False\n",
       "CO2              False\n",
       "Color            False\n",
       "Euro Standard    False\n",
       "Doors            False\n",
       "HP               False\n",
       "Description      False\n",
       "Link             False\n",
       "dtype: bool"
      ]
     },
     "execution_count": 128,
     "metadata": {},
     "output_type": "execute_result"
    }
   ],
   "source": [
    "df.isnull().any()"
   ]
  },
  {
   "cell_type": "code",
   "execution_count": 129,
   "id": "f879fbc0",
   "metadata": {},
   "outputs": [
    {
     "data": {
      "text/plain": [
       "array(['Grijs', 'Zwart', 'Blauw', 'Oranje', 'Wit', 'Geel', 'Beige',\n",
       "       'Rood', 'Zilvergrijs', 'Antraciet', 'Bruin', 'Groen', 'Brons',\n",
       "       'Champagne', 'Paars', 'Niet vermeld'], dtype=object)"
      ]
     },
     "execution_count": 129,
     "metadata": {},
     "output_type": "execute_result"
    }
   ],
   "source": [
    "df[\"Color\"].unique()"
   ]
  },
  {
   "cell_type": "code",
   "execution_count": 130,
   "id": "30266b00",
   "metadata": {},
   "outputs": [
    {
     "data": {
      "text/plain": [
       "array([5, 4, 2, 3])"
      ]
     },
     "execution_count": 130,
     "metadata": {},
     "output_type": "execute_result"
    }
   ],
   "source": [
    "df['Doors'].unique()"
   ]
  },
  {
   "cell_type": "code",
   "execution_count": 131,
   "id": "dbd14b4f",
   "metadata": {},
   "outputs": [
    {
     "data": {
      "text/plain": [
       "array(['Gas', 'Hybride', 'Diesel', 'Elektrisch', 'LPG'], dtype=object)"
      ]
     },
     "execution_count": 131,
     "metadata": {},
     "output_type": "execute_result"
    }
   ],
   "source": [
    "df['Fuel'].unique()"
   ]
  },
  {
   "cell_type": "code",
   "execution_count": 132,
   "id": "0ed7e694",
   "metadata": {},
   "outputs": [
    {
     "data": {
      "text/plain": [
       "array(['Audi', 'Renault', 'Land Rover', 'Lexus', 'Honda', 'Dacia', 'Kia',\n",
       "       'Peugeot', 'Toyota', 'Alfa Romeo', 'Opel', 'Nissan', 'Suzuki',\n",
       "       'Seat', 'Ford', 'Tesla', 'Fiat', 'Volkswagen', 'Skoda', 'Citroen',\n",
       "       'BMW', 'Cupra', 'Hyundai', 'MINI', 'Porsche', 'Jaguar',\n",
       "       'Mitsubishi', 'Volvo', 'Mercedes-Benz', 'SsangYong', 'Jeep'],\n",
       "      dtype=object)"
      ]
     },
     "execution_count": 132,
     "metadata": {},
     "output_type": "execute_result"
    }
   ],
   "source": [
    "df['Brand'].unique()"
   ]
  },
  {
   "cell_type": "code",
   "execution_count": 133,
   "id": "4cde00f4",
   "metadata": {},
   "outputs": [
    {
     "data": {
      "text/plain": [
       "array(['Q3', 'Megane', 'Range Rover Evoque', 'UX 250h', 'Captur', 'Clio',\n",
       "       'Austral', 'Arkana', 'Talisman', 'Espace', 'HR-V', 'A1', 'Trafic',\n",
       "       'Rafale', 'Kadjar', 'Spring', 'Sportage', '3008', 'Yaris',\n",
       "       'Sandero Stepway', 'Giulietta', 'Scenic', 'Megane E-Tech',\n",
       "       'Movano', 'Juke', 'Ignis', 'Stonic', 'Jogger', 'Ateca', 'Focus',\n",
       "       'Duster', 'Qashqai', 'Model 3', '500e', 'e-Up!', 'Sandero',\n",
       "       'Transit', 'Ceed', 'Q2', 'A6', 'A3', 'Taigo', 'A7', 'Octavia',\n",
       "       'Enyaq', 'Fabia', 'T-Roc', 'T-Cross', 'Golf', 'Caddy', 'ID.5',\n",
       "       'C-HR', 'CT 200h', 'Passat', 'ID.7', 'Golf Variant', 'Q4', 'ID.3',\n",
       "       'Superb', 'Kodiaq', 'Tiguan', 'C4 SpaceTourer', 'e-Golf',\n",
       "       'Q6 e-tron', 'T6.1 Transporter', 'e-tron', 'A4', 'Kamiq',\n",
       "       'Crafter', 'Touran', 'Scala', 'Q5', 'e-tron GT', 'Q4 e-tron', 'Q8',\n",
       "       'A5', 'Q8 e-tron', 'RS6', 'Serie 2 220', 'Born', 'i30',\n",
       "       'Cooper Clubman', 'Formentor', 'X-Trail', '2008', 'S5', '718',\n",
       "       'F-Pace', '911', 'Macan', 'Tayron', 'Cooper S', 'Venga', 'Kona',\n",
       "       '5008', 'Leon', 'ASX', 'Serie 2 216', 'ID.Buzz Cargo',\n",
       "       'Serie X X1', 'SQ8', 'ID.Buzz', 'Karoq', 'XC40', '500 X', 'Rio',\n",
       "       '508', 'Tarraco', 'Symbioz', 'Ka', '500 C', 'Master',\n",
       "       'Clio Grandtour', 'Kangoo', 'Micra', 'ID.4', 'Golf R', 'Others',\n",
       "       'Tavascan', 'Serie X X2', 'Polo', 'California', 'Arona', 'Elroq',\n",
       "       'Dokker', 'Passat Variant', 'Terramar', 'Puma', 'Twingo', 'Tipo',\n",
       "       'i10', 'Berlingo', 'CLA 180', 'Golf Sportsvan', 'SX4 S-Cross',\n",
       "       'Tucson', 'C5 Aircross', 'Kuga', 'Karl', 'Ibiza', 'Spacetourer',\n",
       "       'S6', 'Swift', 'Fiesta', 'Serie 1 116', 'Yaris Cross', 'TT', 'C3',\n",
       "       'CLA 200', 'Cooper', 'Up!', 'GLA 180', 'Touareg', 'Serie 1 118',\n",
       "       'V40', 'Tivoli', 'Compass', 'Panda', '108', 'R5', 'Korando',\n",
       "       'Serie 4 418', 'Insignia', 'Arteon', 'Serie 2 218', 'SLC 180',\n",
       "       'Golf GTE', 'A 180', 'Stelvio', 'Serie 3 318', 'S3', 'Transporter',\n",
       "       'Vitara', 'Corsa', 'Tiguan Allspace', 'Beetle', 'T7', 'RS3',\n",
       "       'Celerio'], dtype=object)"
      ]
     },
     "execution_count": 133,
     "metadata": {},
     "output_type": "execute_result"
    }
   ],
   "source": [
    "df['Model'].unique()"
   ]
  },
  {
   "cell_type": "code",
   "execution_count": 134,
   "id": "fab7247f",
   "metadata": {},
   "outputs": [
    {
     "data": {
      "text/plain": [
       "array(['Euro 6', 'Nan', 'Euro 5', 'Euro 7'], dtype=object)"
      ]
     },
     "execution_count": 134,
     "metadata": {},
     "output_type": "execute_result"
    }
   ],
   "source": [
    "df[\"Euro Standard\"].unique()"
   ]
  },
  {
   "cell_type": "code",
   "execution_count": 135,
   "id": "3908bdf6",
   "metadata": {},
   "outputs": [],
   "source": [
    "df = df[df[\"Euro Standard\"] != \"Nan\"]"
   ]
  },
  {
   "cell_type": "code",
   "execution_count": 136,
   "id": "f53663b3",
   "metadata": {},
   "outputs": [
    {
     "data": {
      "text/plain": [
       "0"
      ]
     },
     "execution_count": 136,
     "metadata": {},
     "output_type": "execute_result"
    }
   ],
   "source": [
    "len(df[df[\"Euro Standard\"]==\"Nan\"])"
   ]
  },
  {
   "cell_type": "code",
   "execution_count": 137,
   "id": "4733a838",
   "metadata": {},
   "outputs": [
    {
     "data": {
      "text/plain": [
       "array(['Euro 6', 'Euro 5', 'Euro 7'], dtype=object)"
      ]
     },
     "execution_count": 137,
     "metadata": {},
     "output_type": "execute_result"
    }
   ],
   "source": [
    "df[\"Euro Standard\"].unique()"
   ]
  },
  {
   "cell_type": "code",
   "execution_count": 138,
   "id": "615032d0",
   "metadata": {},
   "outputs": [
    {
     "data": {
      "text/plain": [
       "array(['SUV', 'Berline', 'Stadswagen', 'Coupé', 'Bedrijfsvoertuig',\n",
       "       'Monovolume', 'Break', 'SAV', 'Cabriolet', 'Andere'], dtype=object)"
      ]
     },
     "execution_count": 138,
     "metadata": {},
     "output_type": "execute_result"
    }
   ],
   "source": [
    "df['Bodywork'].unique()"
   ]
  },
  {
   "cell_type": "code",
   "execution_count": 139,
   "id": "3d04c7ea",
   "metadata": {},
   "outputs": [],
   "source": [
    "mapping_dict = {\n",
    "    'Berline': 'Limousine',\n",
    "    'Stadswagen': 'City',\n",
    "    'Coupé': 'Coupé',\n",
    "    'Bedrijfsvoertuig': 'Other',\n",
    "    'Andere': 'Other',\n",
    "    'Monovolume': 'Van',\n",
    "    'SAV': 'SUV',\n",
    "    'Break': 'Other',\n",
    "    'Cabriolet': 'Cabriolet'\n",
    "}"
   ]
  },
  {
   "cell_type": "code",
   "execution_count": 140,
   "id": "6dccb260",
   "metadata": {},
   "outputs": [],
   "source": [
    "df['Bodywork'] = df['Bodywork'].replace(mapping_dict)\n"
   ]
  },
  {
   "cell_type": "code",
   "execution_count": 141,
   "id": "3cdee624",
   "metadata": {},
   "outputs": [
    {
     "data": {
      "text/plain": [
       "array(['SUV', 'Limousine', 'City', 'Coupé', 'Other', 'Van', 'Cabriolet'],\n",
       "      dtype=object)"
      ]
     },
     "execution_count": 141,
     "metadata": {},
     "output_type": "execute_result"
    }
   ],
   "source": [
    "df['Bodywork'].unique()"
   ]
  },
  {
   "cell_type": "code",
   "execution_count": 142,
   "id": "ddf93b50",
   "metadata": {},
   "outputs": [],
   "source": [
    "mapping_dict_2 = {\n",
    "    'Grijs': 'Gray',\n",
    "    'Zwart': 'Black',\n",
    "    'Blauw': 'Blue',\n",
    "    'Oranje': 'Orange',\n",
    "    'Wit': 'White',\n",
    "    'Geel': 'Yellow',\n",
    "    'Beige': 'Beige',\n",
    "    'Rood': 'Red',\n",
    "    'Zilvergrijs': 'Silver Gray',\n",
    "    'Antraciet': 'Anthracite',\n",
    "    'Bruin': 'Brown',\n",
    "    'Groen': 'Green',\n",
    "    'Brons': 'Bronze',\n",
    "    'Champagne': 'Champagne',\n",
    "    'Paars': 'Purple',\n",
    "    'Niet vermeld': 'Not specified'\n",
    "}\n"
   ]
  },
  {
   "cell_type": "code",
   "execution_count": 143,
   "id": "ac747cf3",
   "metadata": {},
   "outputs": [],
   "source": [
    "df['Color'] = df['Color'].replace(mapping_dict_3)\n"
   ]
  },
  {
   "cell_type": "code",
   "execution_count": 144,
   "id": "f28c0beb",
   "metadata": {},
   "outputs": [
    {
     "data": {
      "text/plain": [
       "array(['Grijs', 'Zwart', 'Blauw', 'Oranje', 'Wit', 'Geel', 'Beige',\n",
       "       'Rood', 'Zilvergrijs', 'Antraciet', 'Bruin', 'Groen', 'Brons',\n",
       "       'Champagne', 'Paars', 'Niet vermeld'], dtype=object)"
      ]
     },
     "execution_count": 144,
     "metadata": {},
     "output_type": "execute_result"
    }
   ],
   "source": [
    "df['Color'].unique()\n"
   ]
  },
  {
   "cell_type": "code",
   "execution_count": 145,
   "id": "a143cf7e",
   "metadata": {},
   "outputs": [],
   "source": [
    "mapping_dict_3 = {\n",
    "    'Automatisch': 'Automatic',\n",
    "    'Manueel': 'Manual',\n",
    "}\n"
   ]
  },
  {
   "cell_type": "code",
   "execution_count": 146,
   "id": "23d951c1",
   "metadata": {},
   "outputs": [],
   "source": [
    "df['Transmission'] = df['Transmission'].replace(mapping_dict_3)\n"
   ]
  },
  {
   "cell_type": "code",
   "execution_count": 147,
   "id": "c7cac42e",
   "metadata": {},
   "outputs": [
    {
     "data": {
      "text/plain": [
       "array(['Automatic', 'Manual'], dtype=object)"
      ]
     },
     "execution_count": 147,
     "metadata": {},
     "output_type": "execute_result"
    }
   ],
   "source": [
    "df['Transmission'].unique()"
   ]
  },
  {
   "cell_type": "code",
   "execution_count": 148,
   "id": "f4c8c0e8",
   "metadata": {},
   "outputs": [
    {
     "data": {
      "text/plain": [
       "array(['Automatic', 'Manual'], dtype=object)"
      ]
     },
     "execution_count": 148,
     "metadata": {},
     "output_type": "execute_result"
    }
   ],
   "source": [
    "df['Transmission'].unique()"
   ]
  },
  {
   "cell_type": "code",
   "execution_count": 149,
   "id": "f9ceb018",
   "metadata": {},
   "outputs": [
    {
     "data": {
      "text/html": [
       "<div>\n",
       "<style scoped>\n",
       "    .dataframe tbody tr th:only-of-type {\n",
       "        vertical-align: middle;\n",
       "    }\n",
       "\n",
       "    .dataframe tbody tr th {\n",
       "        vertical-align: top;\n",
       "    }\n",
       "\n",
       "    .dataframe thead th {\n",
       "        text-align: right;\n",
       "    }\n",
       "</style>\n",
       "<table border=\"1\" class=\"dataframe\">\n",
       "  <thead>\n",
       "    <tr style=\"text-align: right;\">\n",
       "      <th></th>\n",
       "      <th>ID</th>\n",
       "      <th>Brand</th>\n",
       "      <th>Model</th>\n",
       "      <th>Fuel</th>\n",
       "      <th>Mileage</th>\n",
       "      <th>Year</th>\n",
       "      <th>Transmission</th>\n",
       "      <th>Price</th>\n",
       "      <th>Bodywork</th>\n",
       "      <th>CO2</th>\n",
       "      <th>Color</th>\n",
       "      <th>Euro Standard</th>\n",
       "      <th>Doors</th>\n",
       "      <th>HP</th>\n",
       "      <th>Description</th>\n",
       "      <th>Link</th>\n",
       "    </tr>\n",
       "  </thead>\n",
       "  <tbody>\n",
       "    <tr>\n",
       "      <th>0</th>\n",
       "      <td>FB116890</td>\n",
       "      <td>Audi</td>\n",
       "      <td>Q3</td>\n",
       "      <td>Gas</td>\n",
       "      <td>21786</td>\n",
       "      <td>2021</td>\n",
       "      <td>Automatic</td>\n",
       "      <td>32990</td>\n",
       "      <td>SUV</td>\n",
       "      <td>149.0</td>\n",
       "      <td>Grijs</td>\n",
       "      <td>Euro 6</td>\n",
       "      <td>5</td>\n",
       "      <td>150</td>\n",
       "      <td>Deze Audi Q3 S Line is voor het eerst ingeschr...</td>\n",
       "      <td>https://www.autosphere.be/nl/detail/audi-q3-s-...</td>\n",
       "    </tr>\n",
       "    <tr>\n",
       "      <th>1</th>\n",
       "      <td>FB118238</td>\n",
       "      <td>Renault</td>\n",
       "      <td>Megane</td>\n",
       "      <td>Hybride</td>\n",
       "      <td>18181</td>\n",
       "      <td>2023</td>\n",
       "      <td>Automatic</td>\n",
       "      <td>24990</td>\n",
       "      <td>Limousine</td>\n",
       "      <td>29.0</td>\n",
       "      <td>Grijs</td>\n",
       "      <td>Euro 6</td>\n",
       "      <td>5</td>\n",
       "      <td>94</td>\n",
       "      <td>Deze Renault Megane PHEV*I-Tech Engenering*Boi...</td>\n",
       "      <td>https://www.autosphere.be/nl/detail/renault-me...</td>\n",
       "    </tr>\n",
       "    <tr>\n",
       "      <th>2</th>\n",
       "      <td>FB117338</td>\n",
       "      <td>Land Rover</td>\n",
       "      <td>Range Rover Evoque</td>\n",
       "      <td>Diesel</td>\n",
       "      <td>40940</td>\n",
       "      <td>2023</td>\n",
       "      <td>Automatic</td>\n",
       "      <td>36990</td>\n",
       "      <td>SUV</td>\n",
       "      <td>172.0</td>\n",
       "      <td>Zwart</td>\n",
       "      <td>Euro 6</td>\n",
       "      <td>5</td>\n",
       "      <td>163</td>\n",
       "      <td>Deze Land Rover Range Rover Evoque *Boite auto...</td>\n",
       "      <td>https://www.autosphere.be/nl/detail/land-rover...</td>\n",
       "    </tr>\n",
       "    <tr>\n",
       "      <th>3</th>\n",
       "      <td>FB116891</td>\n",
       "      <td>Lexus</td>\n",
       "      <td>UX 250h</td>\n",
       "      <td>Hybride</td>\n",
       "      <td>16027</td>\n",
       "      <td>2023</td>\n",
       "      <td>Automatic</td>\n",
       "      <td>26990</td>\n",
       "      <td>Limousine</td>\n",
       "      <td>120.0</td>\n",
       "      <td>Blauw</td>\n",
       "      <td>Euro 6</td>\n",
       "      <td>5</td>\n",
       "      <td>152</td>\n",
       "      <td>Deze Lexus UX 250h *Boite auto*Carplay*Led*Cli...</td>\n",
       "      <td>https://www.autosphere.be/nl/detail/lexus-ux-2...</td>\n",
       "    </tr>\n",
       "    <tr>\n",
       "      <th>4</th>\n",
       "      <td>FB118716</td>\n",
       "      <td>Renault</td>\n",
       "      <td>Captur</td>\n",
       "      <td>Gas</td>\n",
       "      <td>18345</td>\n",
       "      <td>2024</td>\n",
       "      <td>Manual</td>\n",
       "      <td>19990</td>\n",
       "      <td>SUV</td>\n",
       "      <td>132.0</td>\n",
       "      <td>Grijs</td>\n",
       "      <td>Euro 6</td>\n",
       "      <td>5</td>\n",
       "      <td>91</td>\n",
       "      <td>Deze Renault Captur *GPS*Carplay*CamĂ©ra*APS A...</td>\n",
       "      <td>https://www.autosphere.be/nl/detail/renault-ca...</td>\n",
       "    </tr>\n",
       "  </tbody>\n",
       "</table>\n",
       "</div>"
      ],
      "text/plain": [
       "         ID       Brand               Model     Fuel  Mileage  Year  \\\n",
       "0  FB116890        Audi                  Q3      Gas    21786  2021   \n",
       "1  FB118238     Renault              Megane  Hybride    18181  2023   \n",
       "2  FB117338  Land Rover  Range Rover Evoque   Diesel    40940  2023   \n",
       "3  FB116891       Lexus             UX 250h  Hybride    16027  2023   \n",
       "4  FB118716     Renault              Captur      Gas    18345  2024   \n",
       "\n",
       "  Transmission  Price   Bodywork    CO2  Color Euro Standard  Doors   HP  \\\n",
       "0    Automatic  32990        SUV  149.0  Grijs        Euro 6      5  150   \n",
       "1    Automatic  24990  Limousine   29.0  Grijs        Euro 6      5   94   \n",
       "2    Automatic  36990        SUV  172.0  Zwart        Euro 6      5  163   \n",
       "3    Automatic  26990  Limousine  120.0  Blauw        Euro 6      5  152   \n",
       "4       Manual  19990        SUV  132.0  Grijs        Euro 6      5   91   \n",
       "\n",
       "                                         Description  \\\n",
       "0  Deze Audi Q3 S Line is voor het eerst ingeschr...   \n",
       "1  Deze Renault Megane PHEV*I-Tech Engenering*Boi...   \n",
       "2  Deze Land Rover Range Rover Evoque *Boite auto...   \n",
       "3  Deze Lexus UX 250h *Boite auto*Carplay*Led*Cli...   \n",
       "4  Deze Renault Captur *GPS*Carplay*CamĂ©ra*APS A...   \n",
       "\n",
       "                                                Link  \n",
       "0  https://www.autosphere.be/nl/detail/audi-q3-s-...  \n",
       "1  https://www.autosphere.be/nl/detail/renault-me...  \n",
       "2  https://www.autosphere.be/nl/detail/land-rover...  \n",
       "3  https://www.autosphere.be/nl/detail/lexus-ux-2...  \n",
       "4  https://www.autosphere.be/nl/detail/renault-ca...  "
      ]
     },
     "execution_count": 149,
     "metadata": {},
     "output_type": "execute_result"
    }
   ],
   "source": [
    "df.head(5)"
   ]
  },
  {
   "cell_type": "code",
   "execution_count": 150,
   "id": "3ba8509d",
   "metadata": {},
   "outputs": [],
   "source": [
    "df.to_csv('Cars_dataset.csv', encoding='utf-8', index=False)"
   ]
  }
 ],
 "metadata": {
  "kernelspec": {
   "display_name": "Python 3",
   "language": "python",
   "name": "python3"
  },
  "language_info": {
   "codemirror_mode": {
    "name": "ipython",
    "version": 3
   },
   "file_extension": ".py",
   "mimetype": "text/x-python",
   "name": "python",
   "nbconvert_exporter": "python",
   "pygments_lexer": "ipython3",
   "version": "3.12.8"
  }
 },
 "nbformat": 4,
 "nbformat_minor": 5
}
